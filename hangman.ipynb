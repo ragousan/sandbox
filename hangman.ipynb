{
 "cells": [
  {
   "cell_type": "code",
   "execution_count": 15,
   "metadata": {},
   "outputs": [],
   "source": [
    "import random\n",
    "# from hangman_art import logo\n",
    "\n",
    "logo = '''\n",
    " _                                             \n",
    "| |                                            \n",
    "| |__   __ _ _ __   __ _ _ __ ___   __ _ _ __  \n",
    "| '_ \\ / _` | '_ \\ / _` | '_ ` _ \\ / _` | '_ \\ \n",
    "| | | | (_| | | | | (_| | | | | | | (_| | | | |\n",
    "|_| |_|\\__,_|_| |_|\\__, |_| |_| |_|\\__,_|_| |_|\n",
    "                    __/ |                      \n",
    "                   |___/  \n",
    "'''\n",
    "\n",
    "print(logo)\n",
    "print(\"Welcome to hangman.\\n\\nYou have 6 lifes\\n\")\n",
    "\n",
    "lives = 6\n",
    "\n",
    "words = [\"visibility\"]#,\"gravity\",\"jiberish\"]\n",
    "\n",
    "chosen_word = list(random.choice(words))\n",
    "\n",
    "already_guessed = []\n",
    "chosen_word_ = []\n",
    "\n",
    "for _ in range(len(chosen_word)):\n",
    "    chosen_word_.append(\"_\")\n",
    "    \n",
    "# print(chosen_word_)\n",
    "print(\" \".join(chosen_word_))\n",
    "\n",
    "end_game = False\n"
   ]
  },
  {
   "cell_type": "code",
   "execution_count": 14,
   "metadata": {},
   "outputs": [
    {
     "name": "stdout",
     "output_type": "stream",
     "text": [
      "_ _ _ _ _ _ _ _ _ _\n",
      "already guessed\n",
      "_ _ _ _ _ _ _ _ _ _\n",
      "_ _ s _ _ _ _ _ _ _\n",
      "_ _ s _ _ _ _ _ t _\n",
      "already guessed\n",
      "_ _ s _ _ _ _ _ t _\n",
      "_ _ s _ _ _ _ _ t y\n",
      "v _ s _ _ _ _ _ t y\n",
      "v i s i _ i _ i t y\n",
      "v i s i b i _ i t y\n",
      "already guessed\n",
      "v i s i b i _ i t y\n",
      "You win\n",
      "v i s i b i l i t y\n",
      "v i s i b i l i t y\n",
      "6\n"
     ]
    }
   ],
   "source": [
    "while not end_game:\n",
    "    \n",
    "    choice = input(\"Guess letter: \").lower()\n",
    "    \n",
    "    if choice.isalpha():\n",
    "\n",
    "        if choice in already_guessed:\n",
    "            print(\"already guessed\")\n",
    "        else:\n",
    "            already_guessed.append(choice)\n",
    "\n",
    "\n",
    "\n",
    "        for (index, letter) in enumerate(chosen_word):\n",
    "            if letter == choice:\n",
    "                chosen_word_[index] = choice\n",
    "                \n",
    "\n",
    "        if choice not in chosen_word:\n",
    "            lives -= 1\n",
    "            if lives == 0:\n",
    "                end_game = True\n",
    "                print(\"Game Over\")\n",
    "        \n",
    "        if \"_\" not in chosen_word_:\n",
    "            end_game = True\n",
    "            print(\"You win\")\n",
    "            \n",
    "    print(\" \".join(chosen_word_))\n",
    "\n",
    "    \n",
    "\n",
    "print(\" \".join(chosen_word_))\n",
    "print(lifes)\n",
    "    # [index for (index, letter) in enumerate(chosen_word) if letter == 'i']"
   ]
  },
  {
   "cell_type": "code",
   "execution_count": 16,
   "metadata": {},
   "outputs": [],
   "source": [
    "HANGMANPICS = ['''\n",
    "  +---+\n",
    "  |   |\n",
    "      |\n",
    "      |\n",
    "      |\n",
    "      |\n",
    "=========''', '''\n",
    "  +---+\n",
    "  |   |\n",
    "  O   |\n",
    "      |\n",
    "      |\n",
    "      |\n",
    "=========''', '''\n",
    "  +---+\n",
    "  |   |\n",
    "  O   |\n",
    "  |   |\n",
    "      |\n",
    "      |\n",
    "=========''', '''\n",
    "  +---+\n",
    "  |   |\n",
    "  O   |\n",
    " /|   |\n",
    "      |\n",
    "      |\n",
    "=========''', '''\n",
    "  +---+\n",
    "  |   |\n",
    "  O   |\n",
    " /|\\  |\n",
    "      |\n",
    "      |\n",
    "=========''', '''\n",
    "  +---+\n",
    "  |   |\n",
    "  O   |\n",
    " /|\\  |\n",
    " /    |\n",
    "      |\n",
    "=========''', '''\n",
    "  +---+\n",
    "  |   |\n",
    "  O   |\n",
    " /|\\  |\n",
    " / \\  |\n",
    "      |\n",
    "=========''']"
   ]
  },
  {
   "cell_type": "code",
   "execution_count": 17,
   "metadata": {},
   "outputs": [
    {
     "data": {
      "text/plain": [
       "'\\n  +---+\\n  |   |\\n      |\\n      |\\n      |\\n      |\\n========='"
      ]
     },
     "execution_count": 17,
     "metadata": {},
     "output_type": "execute_result"
    }
   ],
   "source": [
    "HANGMANPICS[0]"
   ]
  }
 ],
 "metadata": {
  "interpreter": {
   "hash": "51d0c8e46926fb68ecac7cbb3debd2c74992e583a3191676a738387bfd0f2498"
  },
  "kernelspec": {
   "display_name": "Python 3.8.3 64-bit ('base': conda)",
   "language": "python",
   "name": "python3"
  },
  "language_info": {
   "codemirror_mode": {
    "name": "ipython",
    "version": 3
   },
   "file_extension": ".py",
   "mimetype": "text/x-python",
   "name": "python",
   "nbconvert_exporter": "python",
   "pygments_lexer": "ipython3",
   "version": "3.8.3"
  },
  "orig_nbformat": 4
 },
 "nbformat": 4,
 "nbformat_minor": 2
}
